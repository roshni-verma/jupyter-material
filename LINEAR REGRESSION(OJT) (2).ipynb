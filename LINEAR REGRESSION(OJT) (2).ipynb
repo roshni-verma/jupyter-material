{
 "cells": [
  {
   "cell_type": "code",
   "execution_count": 8,
   "id": "48089d81",
   "metadata": {},
   "outputs": [],
   "source": [
    "import numpy as np\n",
    "import matplotlib.pyplot as plt\n",
    "from sklearn.model_selection import train_test_split\n",
    "from sklearn.linear_model import LinearRegression\n",
    "from sklearn.metrics import mean_squared_error"
   ]
  },
  {
   "cell_type": "code",
   "execution_count": 9,
   "id": "df742ace",
   "metadata": {},
   "outputs": [
    {
     "name": "stdout",
     "output_type": "stream",
     "text": [
      "[[ 3.76405235]\n",
      " [ 2.40015721]\n",
      " [ 2.97873798]\n",
      " [ 4.2408932 ]\n",
      " [ 3.86755799]\n",
      " [ 1.02272212]\n",
      " [ 2.95008842]\n",
      " [ 1.84864279]\n",
      " [ 1.89678115]\n",
      " [ 2.4105985 ]\n",
      " [ 2.14404357]\n",
      " [ 3.45427351]\n",
      " [ 2.76103773]\n",
      " [ 2.12167502]\n",
      " [ 2.44386323]\n",
      " [ 2.33367433]\n",
      " [ 3.49407907]\n",
      " [ 1.79484174]\n",
      " [ 2.3130677 ]\n",
      " [ 1.14590426]\n",
      " [-0.55298982]\n",
      " [ 2.6536186 ]\n",
      " [ 2.8644362 ]\n",
      " [ 1.25783498]\n",
      " [ 4.26975462]\n",
      " [ 0.54563433]\n",
      " [ 2.04575852]\n",
      " [ 1.81281615]\n",
      " [ 3.53277921]\n",
      " [ 3.46935877]\n",
      " [ 2.15494743]\n",
      " [ 2.37816252]\n",
      " [ 1.11221425]\n",
      " [ 0.01920353]\n",
      " [ 1.65208785]\n",
      " [ 2.15634897]\n",
      " [ 3.23029068]\n",
      " [ 3.20237985]\n",
      " [ 1.61267318]\n",
      " [ 1.69769725]\n",
      " [ 0.95144703]\n",
      " [ 0.57998206]\n",
      " [ 0.29372981]\n",
      " [ 3.9507754 ]\n",
      " [ 1.49034782]\n",
      " [ 1.5619257 ]\n",
      " [ 0.74720464]\n",
      " [ 2.77749036]\n",
      " [ 0.38610215]\n",
      " [ 1.78725972]\n",
      " [ 1.10453344]\n",
      " [ 2.3869025 ]\n",
      " [ 1.48919486]\n",
      " [ 0.81936782]\n",
      " [ 1.97181777]\n",
      " [ 2.42833187]\n",
      " [ 2.06651722]\n",
      " [ 2.3024719 ]\n",
      " [ 1.36567791]\n",
      " [ 1.63725883]\n",
      " [ 1.32753955]\n",
      " [ 1.64044684]\n",
      " [ 1.18685372]\n",
      " [ 0.2737174 ]\n",
      " [ 2.17742614]\n",
      " [ 1.59821906]\n",
      " [ 0.36980165]\n",
      " [ 2.46278226]\n",
      " [ 1.09270164]\n",
      " [ 2.0519454 ]\n",
      " [ 2.72909056]\n",
      " [ 2.12898291]\n",
      " [ 3.13940068]\n",
      " [ 0.76517418]\n",
      " [ 2.40234164]\n",
      " [ 1.31518991]\n",
      " [ 1.12920285]\n",
      " [ 1.42115034]\n",
      " [ 1.68844747]\n",
      " [ 2.05616534]\n",
      " [ 0.83485016]\n",
      " [ 2.90082649]\n",
      " [ 2.46566244]\n",
      " [ 0.46375631]\n",
      " [ 3.48825219]\n",
      " [ 3.89588918]\n",
      " [ 3.17877957]\n",
      " [ 1.82007516]\n",
      " [ 0.92924738]\n",
      " [ 3.05445173]\n",
      " [ 1.59682305]\n",
      " [ 3.22244507]\n",
      " [ 2.20827498]\n",
      " [ 2.97663904]\n",
      " [ 2.3563664 ]\n",
      " [ 2.70657317]\n",
      " [ 2.01050002]\n",
      " [ 3.78587049]\n",
      " [ 2.12691209]\n",
      " [ 2.40198936]]\n"
     ]
    }
   ],
   "source": [
    "#Generationg some sample data\n",
    "np.random.seed(0)\n",
    "X = 2+ np.random.randn(100,1)#independent variable(feature)\n",
    "Y = 4+ 3* X + np.random.randn(100,1)#dependent variable(target)\n",
    "print(X)"
   ]
  },
  {
   "cell_type": "code",
   "execution_count": 10,
   "id": "c346c1a1",
   "metadata": {},
   "outputs": [],
   "source": [
    "#SPLITTING THE DATA INTO TRAINING AND TESTING TEST\n",
    "X_train,X_test, Y_train,Y_test = train_test_split(X,Y, test_size=0.2,random_state=42)"
   ]
  },
  {
   "cell_type": "code",
   "execution_count": 11,
   "id": "1eb41e27",
   "metadata": {},
   "outputs": [
    {
     "data": {
      "text/html": [
       "<style>#sk-container-id-2 {color: black;}#sk-container-id-2 pre{padding: 0;}#sk-container-id-2 div.sk-toggleable {background-color: white;}#sk-container-id-2 label.sk-toggleable__label {cursor: pointer;display: block;width: 100%;margin-bottom: 0;padding: 0.3em;box-sizing: border-box;text-align: center;}#sk-container-id-2 label.sk-toggleable__label-arrow:before {content: \"▸\";float: left;margin-right: 0.25em;color: #696969;}#sk-container-id-2 label.sk-toggleable__label-arrow:hover:before {color: black;}#sk-container-id-2 div.sk-estimator:hover label.sk-toggleable__label-arrow:before {color: black;}#sk-container-id-2 div.sk-toggleable__content {max-height: 0;max-width: 0;overflow: hidden;text-align: left;background-color: #f0f8ff;}#sk-container-id-2 div.sk-toggleable__content pre {margin: 0.2em;color: black;border-radius: 0.25em;background-color: #f0f8ff;}#sk-container-id-2 input.sk-toggleable__control:checked~div.sk-toggleable__content {max-height: 200px;max-width: 100%;overflow: auto;}#sk-container-id-2 input.sk-toggleable__control:checked~label.sk-toggleable__label-arrow:before {content: \"▾\";}#sk-container-id-2 div.sk-estimator input.sk-toggleable__control:checked~label.sk-toggleable__label {background-color: #d4ebff;}#sk-container-id-2 div.sk-label input.sk-toggleable__control:checked~label.sk-toggleable__label {background-color: #d4ebff;}#sk-container-id-2 input.sk-hidden--visually {border: 0;clip: rect(1px 1px 1px 1px);clip: rect(1px, 1px, 1px, 1px);height: 1px;margin: -1px;overflow: hidden;padding: 0;position: absolute;width: 1px;}#sk-container-id-2 div.sk-estimator {font-family: monospace;background-color: #f0f8ff;border: 1px dotted black;border-radius: 0.25em;box-sizing: border-box;margin-bottom: 0.5em;}#sk-container-id-2 div.sk-estimator:hover {background-color: #d4ebff;}#sk-container-id-2 div.sk-parallel-item::after {content: \"\";width: 100%;border-bottom: 1px solid gray;flex-grow: 1;}#sk-container-id-2 div.sk-label:hover label.sk-toggleable__label {background-color: #d4ebff;}#sk-container-id-2 div.sk-serial::before {content: \"\";position: absolute;border-left: 1px solid gray;box-sizing: border-box;top: 0;bottom: 0;left: 50%;z-index: 0;}#sk-container-id-2 div.sk-serial {display: flex;flex-direction: column;align-items: center;background-color: white;padding-right: 0.2em;padding-left: 0.2em;position: relative;}#sk-container-id-2 div.sk-item {position: relative;z-index: 1;}#sk-container-id-2 div.sk-parallel {display: flex;align-items: stretch;justify-content: center;background-color: white;position: relative;}#sk-container-id-2 div.sk-item::before, #sk-container-id-2 div.sk-parallel-item::before {content: \"\";position: absolute;border-left: 1px solid gray;box-sizing: border-box;top: 0;bottom: 0;left: 50%;z-index: -1;}#sk-container-id-2 div.sk-parallel-item {display: flex;flex-direction: column;z-index: 1;position: relative;background-color: white;}#sk-container-id-2 div.sk-parallel-item:first-child::after {align-self: flex-end;width: 50%;}#sk-container-id-2 div.sk-parallel-item:last-child::after {align-self: flex-start;width: 50%;}#sk-container-id-2 div.sk-parallel-item:only-child::after {width: 0;}#sk-container-id-2 div.sk-dashed-wrapped {border: 1px dashed gray;margin: 0 0.4em 0.5em 0.4em;box-sizing: border-box;padding-bottom: 0.4em;background-color: white;}#sk-container-id-2 div.sk-label label {font-family: monospace;font-weight: bold;display: inline-block;line-height: 1.2em;}#sk-container-id-2 div.sk-label-container {text-align: center;}#sk-container-id-2 div.sk-container {/* jupyter's `normalize.less` sets `[hidden] { display: none; }` but bootstrap.min.css set `[hidden] { display: none !important; }` so we also need the `!important` here to be able to override the default hidden behavior on the sphinx rendered scikit-learn.org. See: https://github.com/scikit-learn/scikit-learn/issues/21755 */display: inline-block !important;position: relative;}#sk-container-id-2 div.sk-text-repr-fallback {display: none;}</style><div id=\"sk-container-id-2\" class=\"sk-top-container\"><div class=\"sk-text-repr-fallback\"><pre>LinearRegression()</pre><b>In a Jupyter environment, please rerun this cell to show the HTML representation or trust the notebook. <br />On GitHub, the HTML representation is unable to render, please try loading this page with nbviewer.org.</b></div><div class=\"sk-container\" hidden><div class=\"sk-item\"><div class=\"sk-estimator sk-toggleable\"><input class=\"sk-toggleable__control sk-hidden--visually\" id=\"sk-estimator-id-2\" type=\"checkbox\" checked><label for=\"sk-estimator-id-2\" class=\"sk-toggleable__label sk-toggleable__label-arrow\">LinearRegression</label><div class=\"sk-toggleable__content\"><pre>LinearRegression()</pre></div></div></div></div></div>"
      ],
      "text/plain": [
       "LinearRegression()"
      ]
     },
     "execution_count": 11,
     "metadata": {},
     "output_type": "execute_result"
    }
   ],
   "source": [
    "#training the linear regression model\n",
    "LR = LinearRegression()\n",
    "LR.fit(X_train, Y_train)"
   ]
  },
  {
   "cell_type": "code",
   "execution_count": 12,
   "id": "5555c41b",
   "metadata": {},
   "outputs": [],
   "source": [
    "#MAKING PREDICTIONS ON THE TESTING SET\n",
    "Y_pred = LR.predict(X_test)\n",
    "#print(Y_pred)"
   ]
  },
  {
   "cell_type": "code",
   "execution_count": 13,
   "id": "c0fb8c0c",
   "metadata": {},
   "outputs": [
    {
     "name": "stdout",
     "output_type": "stream",
     "text": [
      "Mean Squuared Error: 1.3999281064993636\n"
     ]
    }
   ],
   "source": [
    "#calculating the mean squared error\n",
    "mse = mean_squared_error(Y_test,Y_pred)\n",
    "print(\"Mean Squuared Error:\",mse)"
   ]
  },
  {
   "cell_type": "code",
   "execution_count": 14,
   "id": "db4da517",
   "metadata": {},
   "outputs": [
    {
     "data": {
      "image/png": "[encoded data removed]",
      "text/plain": [
       "<Figure size 640x480 with 1 Axes>"
      ]
     },
     "metadata": {},
     "output_type": "display_data"
    }
   ],
   "source": [
    "#plotting the training data\n",
    "plt.scatter(X_train,Y_train,color=\"blue\",label='Training Data')\n",
    "\n",
    "#plotting the testing data\n",
    "plt.scatter(X_test,Y_test,color=\"green\",label='Training Data')\n",
    "\n",
    "#plotting the regression data\n",
    "plt.plot(X_test,Y_pred,color='red',label='Regression Line')\n",
    "\n",
    "plt.title('simple Linear Regression')\n",
    "plt.xlabel('X')\n",
    "plt.ylabel('Y')\n",
    "plt.legend()\n",
    "plt.show()\n",
    " "
   ]
  },
  {
   "cell_type": "code",
   "execution_count": null,
   "id": "0694c330",
   "metadata": {},
   "outputs": [],
   "source": []
  },
  {
   "cell_type": "code",
   "execution_count": null,
   "id": "ecb3ed63",
   "metadata": {},
   "outputs": [],
   "source": []
  }
 ],
 "metadata": {
  "kernelspec": {
   "display_name": "Python 3 (ipykernel)",
   "language": "python",
   "name": "python3"
  },
  "language_info": {
   "codemirror_mode": {
    "name": "ipython",
    "version": 3
   },
   "file_extension": ".py",
   "mimetype": "text/x-python",
   "name": "python",
   "nbconvert_exporter": "python",
   "pygments_lexer": "ipython3",
   "version": "3.11.4"
  }
 },
 "nbformat": 4,
 "nbformat_minor": 5
}
