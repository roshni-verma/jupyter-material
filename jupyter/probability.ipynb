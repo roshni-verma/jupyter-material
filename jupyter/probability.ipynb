{
 "cells": [
  {
   "cell_type": "code",
   "execution_count": 5,
   "id": "ee373252",
   "metadata": {},
   "outputs": [
    {
     "name": "stdout",
     "output_type": "stream",
     "text": [
      "0.013885498046874991\n",
      "0.986114501953125\n"
     ]
    }
   ],
   "source": [
    "import scipy.stats as st\n",
    "\n",
    "n = 15\n",
    "\n",
    "x = 3\n",
    "\n",
    "p = 0.5\n",
    "\n",
    "prob_1 = st.binom.pmf(x,n,p)\n",
    "\n",
    "print(prob_1)\n",
    "\n",
    "print(1-prob_1)\n",
    "\n"
   ]
  },
  {
   "cell_type": "code",
   "execution_count": 6,
   "id": "692efe72",
   "metadata": {},
   "outputs": [
    {
     "ename": "ModuleNotFoundError",
     "evalue": "No module named 'ipywidgets'",
     "output_type": "error",
     "traceback": [
      "\u001b[1;31m---------------------------------------------------------------------------\u001b[0m",
      "\u001b[1;31mModuleNotFoundError\u001b[0m                       Traceback (most recent call last)",
      "Cell \u001b[1;32mIn[6], line 3\u001b[0m\n\u001b[0;32m      1\u001b[0m \u001b[38;5;28;01mfrom\u001b[39;00m \u001b[38;5;21;01mmatplotlib\u001b[39;00m \u001b[38;5;28;01mimport\u001b[39;00m pyplot \u001b[38;5;28;01mas\u001b[39;00m plt\n\u001b[1;32m----> 3\u001b[0m \u001b[38;5;28;01mimport\u001b[39;00m \u001b[38;5;21;01mipywidgets\u001b[39;00m \u001b[38;5;28;01mas\u001b[39;00m \u001b[38;5;21;01mwidgets\u001b[39;00m\n\u001b[0;32m      5\u001b[0m \u001b[38;5;129m@widgets\u001b[39m\u001b[38;5;241m.\u001b[39minteract(x\u001b[38;5;241m=\u001b[39mwidgets\u001b[38;5;241m.\u001b[39mIntSlider(\u001b[38;5;28mmin\u001b[39m\u001b[38;5;241m=\u001b[39m\u001b[38;5;241m1\u001b[39m,  \u001b[38;5;28mmax\u001b[39m\u001b[38;5;241m=\u001b[39m\u001b[38;5;241m20\u001b[39m,step \u001b[38;5;241m=\u001b[39m\u001b[38;5;241m2\u001b[39m, value \u001b[38;5;241m=\u001b[39m \u001b[38;5;241m20\u001b[39m,description\u001b[38;5;241m=\u001b[39m\u001b[38;5;124m'\u001b[39m\u001b[38;5;124mTrials\u001b[39m\u001b[38;5;124m'\u001b[39m))\n\u001b[0;32m      6\u001b[0m \n\u001b[0;32m      7\u001b[0m \u001b[38;5;28;01mdef\u001b[39;00m \u001b[38;5;21mplot_prob\u001b[39m(x):\n\u001b[0;32m      9\u001b[0m     prob \u001b[38;5;241m=\u001b[39m []\n",
      "\u001b[1;31mModuleNotFoundError\u001b[0m: No module named 'ipywidgets'"
     ]
    }
   ],
   "source": [
    "from matplotlib import pyplot as plt\n",
    "\n",
    "import ipywidgets as widgets\n",
    "\n",
    "@widgets.interact(x=widgets.IntSlider(min=1,  max=20,step =2, value = 20,description='Trials'))\n",
    "\n",
    "def plot_prob(x):\n",
    "\n",
    "    prob = []\n",
    "\n",
    "    for i in range(0,11):  # i is (0,1,2,3,4,5,6,------10)\n",
    "\n",
    "        prob.append(st.binom.pmf(i,x,0.5))\n",
    "\n",
    "        #print(prob)\n",
    "\n",
    "    #print(prob)\n",
    "\n",
    "    #plotting the graph\n",
    "\n",
    "    plt.figure(figsize=(6,3))\n",
    "\n",
    "    plt.bar(range(0,11),prob,color='#2f4f4f')\n",
    "\n",
    "    plt.xlabel('Number of heads')\n",
    "\n",
    "    plt.ylabel('probability')\n",
    "\n",
    "    plt.grid()\n",
    "\n",
    "    plt.xticks(range(0,11))\n",
    "\n",
    "    plt.show()"
   ]
  },
  {
   "cell_type": "code",
   "execution_count": 7,
   "id": "afbe9dd1",
   "metadata": {},
   "outputs": [
    {
     "ename": "ModuleNotFoundError",
     "evalue": "No module named 'ipywidgets'",
     "output_type": "error",
     "traceback": [
      "\u001b[1;31m---------------------------------------------------------------------------\u001b[0m",
      "\u001b[1;31mModuleNotFoundError\u001b[0m                       Traceback (most recent call last)",
      "Cell \u001b[1;32mIn[7], line 2\u001b[0m\n\u001b[0;32m      1\u001b[0m \u001b[38;5;28;01mfrom\u001b[39;00m \u001b[38;5;21;01mmatplotlib\u001b[39;00m \u001b[38;5;28;01mimport\u001b[39;00m pyplot \u001b[38;5;28;01mas\u001b[39;00m plt\n\u001b[1;32m----> 2\u001b[0m \u001b[38;5;28;01mimport\u001b[39;00m \u001b[38;5;21;01mipywidgets\u001b[39;00m \u001b[38;5;28;01mas\u001b[39;00m \u001b[38;5;21;01mwidgets\u001b[39;00m\n\u001b[0;32m      3\u001b[0m \u001b[38;5;129m@widgets\u001b[39m\u001b[38;5;241m.\u001b[39minteract(x\u001b[38;5;241m=\u001b[39mwidgets\u001b[38;5;241m.\u001b[39mIntSlider(\u001b[38;5;28mmin\u001b[39m\u001b[38;5;241m=\u001b[39m\u001b[38;5;241m1\u001b[39m,  \u001b[38;5;28mmax\u001b[39m\u001b[38;5;241m=\u001b[39m\u001b[38;5;241m20\u001b[39m,step \u001b[38;5;241m=\u001b[39m\u001b[38;5;241m2\u001b[39m, value \u001b[38;5;241m=\u001b[39m \u001b[38;5;241m20\u001b[39m,description\u001b[38;5;241m=\u001b[39m\u001b[38;5;124m'\u001b[39m\u001b[38;5;124mTrials\u001b[39m\u001b[38;5;124m'\u001b[39m))\n\u001b[0;32m      4\u001b[0m \u001b[38;5;28;01mdef\u001b[39;00m \u001b[38;5;21mplot_prob\u001b[39m(x):\n\u001b[0;32m      5\u001b[0m     prob \u001b[38;5;241m=\u001b[39m []\n",
      "\u001b[1;31mModuleNotFoundError\u001b[0m: No module named 'ipywidgets'"
     ]
    }
   ],
   "source": [
    "from matplotlib import pyplot as plt\n",
    "import ipywidgets as widgets\n",
    "@widgets.interact(x=widgets.IntSlider(min=1,  max=20,step =2, value = 20,description='Trials'))\n",
    "def plot_prob(x):\n",
    "    prob = []\n",
    "    for i in range(0,11):  # i is (0,1,2,3,4,5,6,------10)\n",
    "        prob.append(st.binom.pmf(i,x,0.5))\n",
    "        #print(prob)\n",
    "    #print(prob)\n",
    "    #plotting the graph\n",
    "    plt.figure(figsize=(6,3))\n",
    "    plt.bar(range(0,11),prob,color='#2f4f4f')\n",
    "    plt.xlabel('Number of heads')\n",
    "    plt.ylabel('probability')\n",
    "    plt.grid()\n",
    "    plt.xticks(range(0,11))\n",
    "    plt.show()"
   ]
  },
  {
   "cell_type": "code",
   "execution_count": null,
   "id": "839e06fb",
   "metadata": {},
   "outputs": [],
   "source": []
  }
 ],
 "metadata": {
  "kernelspec": {
   "display_name": "Python 3 (ipykernel)",
   "language": "python",
   "name": "python3"
  },
  "language_info": {
   "codemirror_mode": {
    "name": "ipython",
    "version": 3
   },
   "file_extension": ".py",
   "mimetype": "text/x-python",
   "name": "python",
   "nbconvert_exporter": "python",
   "pygments_lexer": "ipython3",
   "version": "3.11.4"
  }
 },
 "nbformat": 4,
 "nbformat_minor": 5
}
