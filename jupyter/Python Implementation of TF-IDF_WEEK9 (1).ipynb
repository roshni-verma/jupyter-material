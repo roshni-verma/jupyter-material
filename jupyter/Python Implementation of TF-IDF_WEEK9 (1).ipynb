{
 "cells": [
  {
   "cell_type": "code",
   "execution_count": 4,
   "id": "18d2dbee",
   "metadata": {},
   "outputs": [],
   "source": [
    "from sklearn.feature_extraction.text import TfidfVectorizer\n"
   ]
  },
  {
   "cell_type": "code",
   "execution_count": 5,
   "id": "da3b7e31",
   "metadata": {},
   "outputs": [],
   "source": [
    "\n",
    "# Example documents\n",
    "documents = [\n",
    "    \"Natural Language Processing is fun.\",\n",
    "    \"Language models are improving every day.\"\n",
    "]\n"
   ]
  },
  {
   "cell_type": "code",
   "execution_count": 6,
   "id": "46b135c0",
   "metadata": {},
   "outputs": [],
   "source": [
    "# Create the TfidfVectorizer object\n",
    "tfidf_vectorizer = TfidfVectorizer()"
   ]
  },
  {
   "cell_type": "code",
   "execution_count": 7,
   "id": "afea632d",
   "metadata": {},
   "outputs": [],
   "source": [
    "# Fit the model and transform the documents into a TF-IDF representation\n",
    "X_tfidf = tfidf_vectorizer.fit_transform(documents)"
   ]
  },
  {
   "cell_type": "code",
   "execution_count": 8,
   "id": "6cf1483b",
   "metadata": {},
   "outputs": [
    {
     "name": "stdout",
     "output_type": "stream",
     "text": [
      "Vocabulary: {'natural': 8, 'language': 6, 'processing': 9, 'is': 5, 'fun': 3, 'models': 7, 'are': 0, 'improving': 4, 'every': 2, 'day': 1}\n",
      "TF-IDF Representation:\n",
      " [[0.         0.         0.         0.47107781 0.         0.47107781\n",
      "  0.33517574 0.         0.47107781 0.47107781]\n",
      " [0.4261596  0.4261596  0.4261596  0.         0.4261596  0.\n",
      "  0.30321606 0.4261596  0.         0.        ]]\n"
     ]
    }
   ],
   "source": [
    "# Convert the sparse matrix to a dense array and display vocabulary and TF-IDF representation\n",
    "print(\"Vocabulary:\", tfidf_vectorizer.vocabulary_)\n",
    "print(\"TF-IDF Representation:\\n\", X_tfidf.toarray())"
   ]
  },
  {
   "cell_type": "code",
   "execution_count": null,
   "id": "8f58a408",
   "metadata": {},
   "outputs": [],
   "source": []
  },
  {
   "cell_type": "code",
   "execution_count": null,
   "id": "7dccfac0",
   "metadata": {},
   "outputs": [],
   "source": []
  },
  {
   "cell_type": "code",
   "execution_count": null,
   "id": "0655803a",
   "metadata": {},
   "outputs": [],
   "source": []
  }
 ],
 "metadata": {
  "kernelspec": {
   "display_name": "Python 3 (ipykernel)",
   "language": "python",
   "name": "python3"
  },
  "language_info": {
   "codemirror_mode": {
    "name": "ipython",
    "version": 3
   },
   "file_extension": ".py",
   "mimetype": "text/x-python",
   "name": "python",
   "nbconvert_exporter": "python",
   "pygments_lexer": "ipython3",
   "version": "3.11.4"
  }
 },
 "nbformat": 4,
 "nbformat_minor": 5
}
