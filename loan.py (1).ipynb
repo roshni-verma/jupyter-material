{
 "cells": [
  {
   "cell_type": "code",
   "execution_count": 49,
   "id": "efd02a6b",
   "metadata": {},
   "outputs": [],
   "source": [
    "#packages that need to be imported for this loan repayment prediction.\n",
    "import pandas as pd\n",
    "from sklearn.model_selection  import train_test_split\n",
    "from sklearn.tree import DecisionTreeClassifier\n",
    "from sklearn.metrics import accuracy_score,classification_report,confusion_matrix,precision_score,recall_score,f1_score\n",
    "from sklearn.model_selection import GridSearchCV"
   ]
  },
  {
   "cell_type": "code",
   "execution_count": 50,
   "id": "c8dce1f2",
   "metadata": {},
   "outputs": [
    {
     "name": "stdout",
     "output_type": "stream",
     "text": [
      "   loan_id  loan_amount  interest_rate  term  income  credit_score  age  \\\n",
      "0        1        10000           0.11    36   50000           700   25   \n",
      "1        2        20000           0.15    60   60000           650   35   \n",
      "2        3        15000           0.10    36   80000           720   45   \n",
      "3        4        30000           0.12    60  120000           680   50   \n",
      "4        5        25000           0.13    36   70000           690   30   \n",
      "5        6        18000           0.09    36   90000           730   28   \n",
      "6        7        22000           0.14    60   40000           640   40   \n",
      "7        8        27000           0.11    60  100000           710   35   \n",
      "8        9        16000           0.08    36   95000           740   27   \n",
      "9       10        19000           0.13    36   85000           680   32   \n",
      "\n",
      "   employment_length  loan_repaid  \n",
      "0                  2            1  \n",
      "1                  5            0  \n",
      "2                 10            1  \n",
      "3                 15            0  \n",
      "4                  7            1  \n",
      "5                  3            1  \n",
      "6                  4            0  \n",
      "7                  8            1  \n",
      "8                  1            1  \n",
      "9                  6            0  \n"
     ]
    }
   ],
   "source": [
    "# load the dataset loan.csv\n",
    "data= pd.read_csv('loan.csv')\n",
    "print(data)"
   ]
  },
  {
   "cell_type": "code",
   "execution_count": 51,
   "id": "18d04670",
   "metadata": {},
   "outputs": [
    {
     "name": "stdout",
     "output_type": "stream",
     "text": [
      "   loan_amount  interest_rate  term  income  credit_score  age  \\\n",
      "0        10000           0.11    36   50000           700   25   \n",
      "1        20000           0.15    60   60000           650   35   \n",
      "2        15000           0.10    36   80000           720   45   \n",
      "3        30000           0.12    60  120000           680   50   \n",
      "4        25000           0.13    36   70000           690   30   \n",
      "5        18000           0.09    36   90000           730   28   \n",
      "6        22000           0.14    60   40000           640   40   \n",
      "7        27000           0.11    60  100000           710   35   \n",
      "8        16000           0.08    36   95000           740   27   \n",
      "9        19000           0.13    36   85000           680   32   \n",
      "\n",
      "   employment_length  \n",
      "0                  2  \n",
      "1                  5  \n",
      "2                 10  \n",
      "3                 15  \n",
      "4                  7  \n",
      "5                  3  \n",
      "6                  4  \n",
      "7                  8  \n",
      "8                  1  \n",
      "9                  6  \n",
      "0    1\n",
      "1    0\n",
      "2    1\n",
      "3    0\n",
      "4    1\n",
      "5    1\n",
      "6    0\n",
      "7    1\n",
      "8    1\n",
      "9    0\n",
      "Name: loan_repaid, dtype: int64\n"
     ]
    }
   ],
   "source": [
    "#select the features which need to be used in the case\n",
    "x = data[['loan_amount','interest_rate','term','income','credit_score','age','employment_length']]\n",
    "y = data['loan_repaid']\n",
    "print(x)\n",
    "print(y)"
   ]
  },
  {
   "cell_type": "code",
   "execution_count": 52,
   "id": "38572f4f",
   "metadata": {},
   "outputs": [],
   "source": [
    "# split trains_tests\n",
    "x_train, x_test,y_train, y_test = train_test_split(x,y,test_size=0.2,random_state=42)"
   ]
  },
  {
   "cell_type": "code",
   "execution_count": 53,
   "id": "00e0d5bd",
   "metadata": {},
   "outputs": [],
   "source": [
    "#initiate train_tests\n",
    "model = DecisionTreeClassifier(random_state=42)"
   ]
  },
  {
   "cell_type": "code",
   "execution_count": 54,
   "id": "7267eb28",
   "metadata": {},
   "outputs": [
    {
     "data": {
      "text/html": [
       "<style>#sk-container-id-2 {color: black;}#sk-container-id-2 pre{padding: 0;}#sk-container-id-2 div.sk-toggleable {background-color: white;}#sk-container-id-2 label.sk-toggleable__label {cursor: pointer;display: block;width: 100%;margin-bottom: 0;padding: 0.3em;box-sizing: border-box;text-align: center;}#sk-container-id-2 label.sk-toggleable__label-arrow:before {content: \"▸\";float: left;margin-right: 0.25em;color: #696969;}#sk-container-id-2 label.sk-toggleable__label-arrow:hover:before {color: black;}#sk-container-id-2 div.sk-estimator:hover label.sk-toggleable__label-arrow:before {color: black;}#sk-container-id-2 div.sk-toggleable__content {max-height: 0;max-width: 0;overflow: hidden;text-align: left;background-color: #f0f8ff;}#sk-container-id-2 div.sk-toggleable__content pre {margin: 0.2em;color: black;border-radius: 0.25em;background-color: #f0f8ff;}#sk-container-id-2 input.sk-toggleable__control:checked~div.sk-toggleable__content {max-height: 200px;max-width: 100%;overflow: auto;}#sk-container-id-2 input.sk-toggleable__control:checked~label.sk-toggleable__label-arrow:before {content: \"▾\";}#sk-container-id-2 div.sk-estimator input.sk-toggleable__control:checked~label.sk-toggleable__label {background-color: #d4ebff;}#sk-container-id-2 div.sk-label input.sk-toggleable__control:checked~label.sk-toggleable__label {background-color: #d4ebff;}#sk-container-id-2 input.sk-hidden--visually {border: 0;clip: rect(1px 1px 1px 1px);clip: rect(1px, 1px, 1px, 1px);height: 1px;margin: -1px;overflow: hidden;padding: 0;position: absolute;width: 1px;}#sk-container-id-2 div.sk-estimator {font-family: monospace;background-color: #f0f8ff;border: 1px dotted black;border-radius: 0.25em;box-sizing: border-box;margin-bottom: 0.5em;}#sk-container-id-2 div.sk-estimator:hover {background-color: #d4ebff;}#sk-container-id-2 div.sk-parallel-item::after {content: \"\";width: 100%;border-bottom: 1px solid gray;flex-grow: 1;}#sk-container-id-2 div.sk-label:hover label.sk-toggleable__label {background-color: #d4ebff;}#sk-container-id-2 div.sk-serial::before {content: \"\";position: absolute;border-left: 1px solid gray;box-sizing: border-box;top: 0;bottom: 0;left: 50%;z-index: 0;}#sk-container-id-2 div.sk-serial {display: flex;flex-direction: column;align-items: center;background-color: white;padding-right: 0.2em;padding-left: 0.2em;position: relative;}#sk-container-id-2 div.sk-item {position: relative;z-index: 1;}#sk-container-id-2 div.sk-parallel {display: flex;align-items: stretch;justify-content: center;background-color: white;position: relative;}#sk-container-id-2 div.sk-item::before, #sk-container-id-2 div.sk-parallel-item::before {content: \"\";position: absolute;border-left: 1px solid gray;box-sizing: border-box;top: 0;bottom: 0;left: 50%;z-index: -1;}#sk-container-id-2 div.sk-parallel-item {display: flex;flex-direction: column;z-index: 1;position: relative;background-color: white;}#sk-container-id-2 div.sk-parallel-item:first-child::after {align-self: flex-end;width: 50%;}#sk-container-id-2 div.sk-parallel-item:last-child::after {align-self: flex-start;width: 50%;}#sk-container-id-2 div.sk-parallel-item:only-child::after {width: 0;}#sk-container-id-2 div.sk-dashed-wrapped {border: 1px dashed gray;margin: 0 0.4em 0.5em 0.4em;box-sizing: border-box;padding-bottom: 0.4em;background-color: white;}#sk-container-id-2 div.sk-label label {font-family: monospace;font-weight: bold;display: inline-block;line-height: 1.2em;}#sk-container-id-2 div.sk-label-container {text-align: center;}#sk-container-id-2 div.sk-container {/* jupyter's `normalize.less` sets `[hidden] { display: none; }` but bootstrap.min.css set `[hidden] { display: none !important; }` so we also need the `!important` here to be able to override the default hidden behavior on the sphinx rendered scikit-learn.org. See: https://github.com/scikit-learn/scikit-learn/issues/21755 */display: inline-block !important;position: relative;}#sk-container-id-2 div.sk-text-repr-fallback {display: none;}</style><div id=\"sk-container-id-2\" class=\"sk-top-container\"><div class=\"sk-text-repr-fallback\"><pre>DecisionTreeClassifier(random_state=42)</pre><b>In a Jupyter environment, please rerun this cell to show the HTML representation or trust the notebook. <br />On GitHub, the HTML representation is unable to render, please try loading this page with nbviewer.org.</b></div><div class=\"sk-container\" hidden><div class=\"sk-item\"><div class=\"sk-estimator sk-toggleable\"><input class=\"sk-toggleable__control sk-hidden--visually\" id=\"sk-estimator-id-2\" type=\"checkbox\" checked><label for=\"sk-estimator-id-2\" class=\"sk-toggleable__label sk-toggleable__label-arrow\">DecisionTreeClassifier</label><div class=\"sk-toggleable__content\"><pre>DecisionTreeClassifier(random_state=42)</pre></div></div></div></div></div>"
      ],
      "text/plain": [
       "DecisionTreeClassifier(random_state=42)"
      ]
     },
     "execution_count": 54,
     "metadata": {},
     "output_type": "execute_result"
    }
   ],
   "source": [
    "#train the model\n",
    "model.fit(x_train,y_train)"
   ]
  },
  {
   "cell_type": "code",
   "execution_count": 55,
   "id": "1a5ca68a",
   "metadata": {},
   "outputs": [
    {
     "name": "stdout",
     "output_type": "stream",
     "text": [
      "accuracy:1.00\n",
      "classification_report:\n",
      "              precision    recall  f1-score   support\n",
      "\n",
      "           0       1.00      1.00      1.00         1\n",
      "           1       1.00      1.00      1.00         1\n",
      "\n",
      "    accuracy                           1.00         2\n",
      "   macro avg       1.00      1.00      1.00         2\n",
      "weighted avg       1.00      1.00      1.00         2\n",
      "\n"
     ]
    }
   ],
   "source": [
    "#make a prediction\n",
    "y_pred = model.predict(x_test,)\n",
    "accuracy = accuracy_score(y_test,y_pred)\n",
    "print(f\"accuracy:{accuracy:.2f}\")\n",
    "print(\"classification_report:\")\n",
    "print(classification_report(y_test,y_pred))\n",
    "\n",
    "#print(\"confusion Matrix:\")\n",
    "#print(confusion_matrix:(y_test,y_pred))\n"
   ]
  },
  {
   "cell_type": "code",
   "execution_count": 56,
   "id": "ecf93a20",
   "metadata": {},
   "outputs": [
    {
     "name": "stdout",
     "output_type": "stream",
     "text": [
      "confusion Matrix:\n",
      "[[1 0]\n",
      " [0 1]]\n"
     ]
    }
   ],
   "source": [
    "print(\"confusion Matrix:\")\n",
    "conf_matrix = confusion_matrix(y_test,y_pred)\n",
    "print(conf_matrix)"
   ]
  },
  {
   "cell_type": "code",
   "execution_count": 57,
   "id": "5f80f426",
   "metadata": {},
   "outputs": [
    {
     "name": "stdout",
     "output_type": "stream",
     "text": [
      "precision : 1.0\n"
     ]
    }
   ],
   "source": [
    "# precision \n",
    "precision = precision_score(y_test,y_pred)\n",
    "print(\"precision :\",precision)"
   ]
  },
  {
   "cell_type": "code",
   "execution_count": 58,
   "id": "2b80ca3c",
   "metadata": {},
   "outputs": [
    {
     "name": "stdout",
     "output_type": "stream",
     "text": [
      "recall : 1.0\n"
     ]
    }
   ],
   "source": [
    "#recall\n",
    "recall = recall_score(y_test,y_pred)\n",
    "print(\"recall :\",recall)"
   ]
  },
  {
   "cell_type": "code",
   "execution_count": 61,
   "id": "af2cd896",
   "metadata": {},
   "outputs": [
    {
     "name": "stdout",
     "output_type": "stream",
     "text": [
      "F1_Score: 1.0\n"
     ]
    }
   ],
   "source": [
    "#F1 score\n",
    "f1 = f1_score(y_test,y_pred)\n",
    "print(\"F1_Score:\",f1)"
   ]
  },
  {
   "cell_type": "code",
   "execution_count": null,
   "id": "5831e256",
   "metadata": {},
   "outputs": [],
   "source": []
  },
  {
   "cell_type": "code",
   "execution_count": null,
   "id": "b191235b",
   "metadata": {},
   "outputs": [],
   "source": []
  },
  {
   "cell_type": "code",
   "execution_count": null,
   "id": "98b395a1",
   "metadata": {},
   "outputs": [],
   "source": []
  },
  {
   "cell_type": "code",
   "execution_count": null,
   "id": "9b8a75fc",
   "metadata": {},
   "outputs": [],
   "source": []
  }
 ],
 "metadata": {
  "kernelspec": {
   "display_name": "Python 3 (ipykernel)",
   "language": "python",
   "name": "python3"
  },
  "language_info": {
   "codemirror_mode": {
    "name": "ipython",
    "version": 3
   },
   "file_extension": ".py",
   "mimetype": "text/x-python",
   "name": "python",
   "nbconvert_exporter": "python",
   "pygments_lexer": "ipython3",
   "version": "3.11.4"
  }
 },
 "nbformat": 4,
 "nbformat_minor": 5
}
