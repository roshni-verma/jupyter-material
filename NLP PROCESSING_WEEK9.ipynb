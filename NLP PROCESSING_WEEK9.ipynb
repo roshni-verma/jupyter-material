{
 "cells": [
  {
   "cell_type": "markdown",
   "id": "b336dcc7",
   "metadata": {},
   "source": [
    "# To install the necessary libraries\n",
    "!pip install nltk spacy\n",
    "!python -m spacy download en_core_web_sm\n"
   ]
  },
  {
   "cell_type": "code",
   "execution_count": 22,
   "id": "591c46d4",
   "metadata": {},
   "outputs": [
    {
     "name": "stdout",
     "output_type": "stream",
     "text": [
      "Word Tokens: ['Natural', 'Language', 'Processing', 'is', 'fun', '.', 'Let', \"'s\", 'learn', 'more', 'about', 'it', '.']\n",
      "Sentence Tokens: ['Natural Language Processing is fun.', \"Let's learn more about it.\"]\n"
     ]
    },
    {
     "name": "stderr",
     "output_type": "stream",
     "text": [
      "[nltk_data] Downloading package punkt to\n",
      "[nltk_data]     C:\\Users\\ibmuser\\AppData\\Roaming\\nltk_data...\n",
      "[nltk_data]   Package punkt is already up-to-date!\n"
     ]
    }
   ],
   "source": [
    "# Sentence and Word tokenization using NLTK.\n",
    "from nltk import download\n",
    "download('punkt')\n",
    "\n",
    "from nltk.tokenize import word_tokenize, sent_tokenize\n",
    "\n",
    "text = \"Natural Language Processing is fun. Let's learn more about it.\"\n",
    "\n",
    "# Word Tokenization\n",
    "word_tokens = word_tokenize(text)\n",
    "print(\"Word Tokens:\", word_tokens)\n",
    "\n",
    "# Sentence Tokenization\n",
    "sentence_tokens = sent_tokenize(text)\n",
    "print(\"Sentence Tokens:\", sentence_tokens)\n"
   ]
  },
  {
   "cell_type": "code",
   "execution_count": 23,
   "id": "72c01a30",
   "metadata": {},
   "outputs": [
    {
     "name": "stdout",
     "output_type": "stream",
     "text": [
      "Word Tokens: ['Natural', 'Language', 'Processing', 'is', 'fun', '.', 'Let', \"'s\", 'learn', 'more', 'about', 'it', '.']\n",
      "Sentence Tokens: ['Natural Language Processing is fun.', \"Let's learn more about it.\"]\n"
     ]
    }
   ],
   "source": [
    "# using Spacy\n",
    "import spacy\n",
    "\n",
    "nlp = spacy.load('en_core_web_sm')\n",
    "doc = nlp(text)\n",
    "\n",
    "# Word Tokenization\n",
    "word_tokens = [token.text for token in doc]\n",
    "print(\"Word Tokens:\", word_tokens)\n",
    "\n",
    "# Sentence Tokenization\n",
    "sentence_tokens = [sent.text for sent in doc.sents]\n",
    "print(\"Sentence Tokens:\", sentence_tokens)"
   ]
  },
  {
   "cell_type": "markdown",
   "id": "fde58dd1",
   "metadata": {},
   "source": [
    "# Stemming Using NLTK"
   ]
  },
  {
   "cell_type": "code",
   "execution_count": 24,
   "id": "5cf54cb6",
   "metadata": {},
   "outputs": [
    {
     "name": "stdout",
     "output_type": "stream",
     "text": [
      "Porter Stemming: ['run', 'runner', 'run', 'happi', 'happili']\n",
      "Snowball Stemming: ['run', 'runner', 'run', 'happi', 'happili']\n"
     ]
    }
   ],
   "source": [
    "from nltk.stem import PorterStemmer, SnowballStemmer\n",
    "\n",
    "words = [\"running\", \"runner\", \"runs\", \"happiness\", \"happily\"]\n",
    "\n",
    "# Porter Stemmer\n",
    "porter = PorterStemmer()\n",
    "porter_stems = [porter.stem(word) for word in words]\n",
    "print(\"Porter Stemming:\", porter_stems)\n",
    "\n",
    "# Snowball Stemmer\n",
    "snowball = SnowballStemmer(language='english')\n",
    "snowball_stems = [snowball.stem(word) for word in words]\n",
    "print(\"Snowball Stemming:\", snowball_stems)"
   ]
  },
  {
   "cell_type": "markdown",
   "id": "bcc207a1",
   "metadata": {},
   "source": [
    "# Lemmatization using NLTK"
   ]
  },
  {
   "cell_type": "code",
   "execution_count": 25,
   "id": "c07845f9",
   "metadata": {},
   "outputs": [
    {
     "name": "stdout",
     "output_type": "stream",
     "text": [
      "Lemmatized (Verb): ['run', 'runner', 'run', 'happiness', 'happily', 'better']\n",
      "Lemmatized (Adjective): ['running', 'runner', 'runs', 'happiness', 'happily', 'good']\n"
     ]
    },
    {
     "name": "stderr",
     "output_type": "stream",
     "text": [
      "[nltk_data] Downloading package wordnet to\n",
      "[nltk_data]     C:\\Users\\ibmuser\\AppData\\Roaming\\nltk_data...\n",
      "[nltk_data]   Package wordnet is already up-to-date!\n",
      "[nltk_data] Downloading package omw-1.4 to\n",
      "[nltk_data]     C:\\Users\\ibmuser\\AppData\\Roaming\\nltk_data...\n",
      "[nltk_data]   Package omw-1.4 is already up-to-date!\n"
     ]
    }
   ],
   "source": [
    "from nltk.stem import WordNetLemmatizer\n",
    "from nltk.corpus import wordnet\n",
    "\n",
    "download('wordnet')\n",
    "download('omw-1.4')\n",
    "\n",
    "lemmatizer = WordNetLemmatizer()\n",
    "words = [\"running\", \"runner\", \"runs\", \"happiness\", \"happily\", \"better\"]\n",
    "\n",
    "# Lemmatizing with part-of-speech tagging\n",
    "lemmas = [lemmatizer.lemmatize(word, pos=wordnet.VERB) for word in words]\n",
    "print(\"Lemmatized (Verb):\", lemmas)\n",
    "\n",
    "lemmas = [lemmatizer.lemmatize(word, pos=wordnet.ADJ) for word in words]\n",
    "print(\"Lemmatized (Adjective):\", lemmas)"
   ]
  },
  {
   "cell_type": "markdown",
   "id": "718a52c0",
   "metadata": {},
   "source": [
    "# Lemmatization using Spacy"
   ]
  },
  {
   "cell_type": "code",
   "execution_count": 26,
   "id": "6e972316",
   "metadata": {},
   "outputs": [
    {
     "name": "stdout",
     "output_type": "stream",
     "text": [
      "Lemmatized: ['run', 'runner', 'run', 'happiness', 'happily', 'well']\n"
     ]
    }
   ],
   "source": [
    "doc = nlp(\"running runner runs happiness happily better\")\n",
    "\n",
    "lemmas = [token.lemma_ for token in doc]\n",
    "print(\"Lemmatized:\", lemmas)"
   ]
  },
  {
   "cell_type": "code",
   "execution_count": null,
   "id": "5f1ca85a",
   "metadata": {},
   "outputs": [],
   "source": []
  },
  {
   "cell_type": "code",
   "execution_count": null,
   "id": "137ee0c6",
   "metadata": {},
   "outputs": [],
   "source": []
  }
 ],
 "metadata": {
  "kernelspec": {
   "display_name": "Python 3 (ipykernel)",
   "language": "python",
   "name": "python3"
  },
  "language_info": {
   "codemirror_mode": {
    "name": "ipython",
    "version": 3
   },
   "file_extension": ".py",
   "mimetype": "text/x-python",
   "name": "python",
   "nbconvert_exporter": "python",
   "pygments_lexer": "ipython3",
   "version": "3.11.4"
  }
 },
 "nbformat": 4,
 "nbformat_minor": 5
}
