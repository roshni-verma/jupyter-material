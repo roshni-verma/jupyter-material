{
 "cells": [
  {
   "cell_type": "code",
   "execution_count": 3,
   "id": "5d1fd0ff",
   "metadata": {},
   "outputs": [],
   "source": [
    "import re\n",
    "import nltk\n",
    "from nltk.tokenize import word_tokenize"
   ]
  },
  {
   "cell_type": "code",
   "execution_count": 4,
   "id": "4e49fe02",
   "metadata": {},
   "outputs": [],
   "source": [
    "#sample text\n",
    "text=\"john doe is the ceo of openAI.he lives in san francisco.\""
   ]
  },
  {
   "cell_type": "code",
   "execution_count": 5,
   "id": "1db05139",
   "metadata": {},
   "outputs": [],
   "source": [
    "#laxicons for diffrent entity types\n",
    "person_laxicon = {\"john doe\",\"alice\",\"bob\"}\n",
    "organization_laxicon = {\"openai\",\"google\",\"microsoft\"}\n",
    "location_lexicon = {\"san francisco\",\"new york\",\"los angles\"}"
   ]
  },
  {
   "cell_type": "code",
   "execution_count": 11,
   "id": "889dc9bd",
   "metadata": {},
   "outputs": [
    {
     "name": "stdout",
     "output_type": "stream",
     "text": [
      "Lexicon-based NER:\n",
      "[]\n"
     ]
    }
   ],
   "source": [
    "def laxicon_based_ner(text):\n",
    "    entities = []\n",
    "    tokens = word_tokenize(text)\n",
    "    for token in tokens:\n",
    "        if token in person_laxicon :\n",
    "            entities.append((token,\"PERSON\"))\n",
    "        elif token in organization_laxicon:\n",
    "            entities.append((token,\"ORG\"))\n",
    "        elif token in location_lexicon:\n",
    "            entities.append((token,\"LOC\"))\n",
    "            \n",
    "    return entities\n",
    "\n",
    "print(\"Lexicon-based NER:\")\n",
    "print(laxicon_based_ner(text))\n",
    "            "
   ]
  },
  {
   "cell_type": "code",
   "execution_count": null,
   "id": "70bec936",
   "metadata": {},
   "outputs": [],
   "source": []
  }
 ],
 "metadata": {
  "kernelspec": {
   "display_name": "Python 3 (ipykernel)",
   "language": "python",
   "name": "python3"
  },
  "language_info": {
   "codemirror_mode": {
    "name": "ipython",
    "version": 3
   },
   "file_extension": ".py",
   "mimetype": "text/x-python",
   "name": "python",
   "nbconvert_exporter": "python",
   "pygments_lexer": "ipython3",
   "version": "3.11.4"
  }
 },
 "nbformat": 4,
 "nbformat_minor": 5
}
